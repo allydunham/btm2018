{
 "cells": [
  {
   "cell_type": "markdown",
   "metadata": {},
   "source": [
    "# BTM2018 - Advanced Python"
   ]
  },
  {
   "cell_type": "markdown",
   "metadata": {},
   "source": [
    "This sessions aims to cover some more advanced areas of Python that will allow you to write more complicated scripts and programs. This worksheet contains information about the topic, example code and some exercises.  We will cover:\n",
    "* Classes\n",
    "* List comprehensions\n",
    "* _Error Handling_\n",
    "* _Debuging and Logging_\n",
    "* REST web access (for instance to Ensembl)\n",
    "* Example Biological libraries\n",
    "\n",
    "The largest part of the session will be devoted to classes and basic Object Oriented Programming in python, which is one of the most common methods for implementing modern software (in Python and beyond). We will start by briefly covering a few other important topics, which will be useful in the classes section. And all touch on some other topics at the end that might be useful."
   ]
  },
  {
   "cell_type": "code",
   "execution_count": 52,
   "metadata": {},
   "outputs": [],
   "source": [
    "import math\n",
    "import sys\n",
    "from IPython.core.interactiveshell import InteractiveShell\n",
    "InteractiveShell.ast_node_interactivity = \"all\""
   ]
  },
  {
   "cell_type": "markdown",
   "metadata": {},
   "source": [
    "## List Comprehensions"
   ]
  },
  {
   "cell_type": "markdown",
   "metadata": {},
   "source": [
    "List comprehensions are a simple and efficient way to build up containers without requiring a manual loop. For example, if we wanted a list of square numbers a simple way to do it would be:"
   ]
  },
  {
   "cell_type": "code",
   "execution_count": 11,
   "metadata": {},
   "outputs": [
    {
     "data": {
      "text/plain": [
       "[0, 1, 4, 9, 16, 25, 36, 49, 64, 81]"
      ]
     },
     "execution_count": 11,
     "metadata": {},
     "output_type": "execute_result"
    }
   ],
   "source": [
    "squares = []\n",
    "for x in range(10):\n",
    "    squares.append(x**2)\n",
    "\n",
    "squares"
   ]
  },
  {
   "cell_type": "markdown",
   "metadata": {},
   "source": [
    "The same thing can be done very simply in a single line using a list comprehension:"
   ]
  },
  {
   "cell_type": "code",
   "execution_count": 12,
   "metadata": {},
   "outputs": [
    {
     "data": {
      "text/plain": [
       "[0, 1, 4, 9, 16, 25, 36, 49, 64, 81]"
      ]
     },
     "execution_count": 12,
     "metadata": {},
     "output_type": "execute_result"
    }
   ],
   "source": [
    "[x**2 for x in range(10)]"
   ]
  },
  {
   "cell_type": "markdown",
   "metadata": {},
   "source": [
    "The general format is __[_expression_ for _var_ in _iterator_]__, where the expression depends on _var_ and _iterator_ is any object that can be looped over. This expression can be \n",
    "\n",
    "__Exercise__: Write a list copmprehension to generate a list of square roots:"
   ]
  },
  {
   "cell_type": "code",
   "execution_count": null,
   "metadata": {},
   "outputs": [],
   "source": []
  },
  {
   "cell_type": "markdown",
   "metadata": {},
   "source": [
    "They can also be extended to include a conditional expression to filter which variables that are used to build the list. For example if you wanted a list of cubes of odd numbers:"
   ]
  },
  {
   "cell_type": "code",
   "execution_count": 13,
   "metadata": {},
   "outputs": [
    {
     "data": {
      "text/plain": [
       "[1, 27, 125, 343, 729]"
      ]
     },
     "execution_count": 13,
     "metadata": {},
     "output_type": "execute_result"
    }
   ],
   "source": [
    "[x**3 for x in range(10) if x % 2 == 1]"
   ]
  },
  {
   "cell_type": "markdown",
   "metadata": {},
   "source": [
    "This is roughly equivalent to writing:"
   ]
  },
  {
   "cell_type": "code",
   "execution_count": 14,
   "metadata": {},
   "outputs": [
    {
     "data": {
      "text/plain": [
       "[1, 27, 125, 343, 729]"
      ]
     },
     "execution_count": 14,
     "metadata": {},
     "output_type": "execute_result"
    }
   ],
   "source": [
    "cubes = []\n",
    "for x in range(10):\n",
    "    if x % 2 == 1:\n",
    "        cubes.append(x**3)\n",
    "\n",
    "cubes"
   ]
  },
  {
   "cell_type": "markdown",
   "metadata": {},
   "source": [
    "__Exercise__: Write a list copmprehension to determine all multiples of 7 under 100"
   ]
  },
  {
   "cell_type": "code",
   "execution_count": null,
   "metadata": {},
   "outputs": [],
   "source": []
  },
  {
   "cell_type": "markdown",
   "metadata": {},
   "source": [
    "Similar syntax can be used to create sets and dictionaries. Similar to a list, a set is an object that contains other objects but it is unordered and contains only one copy of each unique element. They also have additional functions to perform various set opperations. We won't cover sets in detail, see https://docs.python.org/3/tutorial/datastructures.html for more details and further information about all data structures.\n"
   ]
  },
  {
   "cell_type": "code",
   "execution_count": 24,
   "metadata": {},
   "outputs": [
    {
     "name": "stdout",
     "output_type": "stream",
     "text": [
      "{1, 2, 3, 4, 6}\n"
     ]
    }
   ],
   "source": [
    "set([1,2,3,1,2,4,6])"
   ]
  },
  {
   "cell_type": "markdown",
   "metadata": {},
   "source": [
    "Set comprehensions are similar to list comprehensions but use {...}:"
   ]
  },
  {
   "cell_type": "code",
   "execution_count": 26,
   "metadata": {},
   "outputs": [
    {
     "data": {
      "text/plain": [
       "{-1, 1}"
      ]
     },
     "execution_count": 26,
     "metadata": {},
     "output_type": "execute_result"
    }
   ],
   "source": [
    "{(-1)**x for x in range(10)}"
   ]
  },
  {
   "cell_type": "markdown",
   "metadata": {},
   "source": [
    "Similarly dictionary comprehensions also use curly brackets but require key:value pairs:"
   ]
  },
  {
   "cell_type": "code",
   "execution_count": 27,
   "metadata": {},
   "outputs": [
    {
     "data": {
      "text/plain": [
       "{0: 0, 1: 1, 2: 4, 3: 9, 4: 16, 5: 25, 6: 36, 7: 49, 8: 64, 9: 81}"
      ]
     },
     "execution_count": 27,
     "metadata": {},
     "output_type": "execute_result"
    }
   ],
   "source": [
    "{x: x**2 for x in range(10)}"
   ]
  },
  {
   "cell_type": "markdown",
   "metadata": {},
   "source": [
    "However, often you require a key that is different to the value, in which case the comprehension becomes more complicated. The simplest way to do this is if you iterate over a list containing other containers, which lets you asign multiple iterating valriables just as when you iterate over a dictionary: "
   ]
  },
  {
   "cell_type": "code",
   "execution_count": 29,
   "metadata": {},
   "outputs": [
    {
     "data": {
      "text/plain": [
       "{'a': 1, 'b': 2, 'c': 3}"
      ]
     },
     "execution_count": 29,
     "metadata": {},
     "output_type": "execute_result"
    }
   ],
   "source": [
    "{key: value for key, value in [('foo', 1), ('bar', 2), ('baz', 3)]}"
   ]
  },
  {
   "cell_type": "markdown",
   "metadata": {},
   "source": [
    "This sort of list can be constructed using the _zip_ function, which groups the 1st, 2nd, 3rd, ... items in the lists you provide:"
   ]
  },
  {
   "cell_type": "code",
   "execution_count": 30,
   "metadata": {},
   "outputs": [
    {
     "data": {
      "text/plain": [
       "{'foo': 1, 'bar': 2, 'baz': 3}"
      ]
     },
     "execution_count": 30,
     "metadata": {},
     "output_type": "execute_result"
    }
   ],
   "source": [
    "keys = ['foo', 'bar', 'baz']\n",
    "values = [1, 2, 3]\n",
    "\n",
    "{k: v for k,v in zip(keys, values)}"
   ]
  },
  {
   "cell_type": "markdown",
   "metadata": {},
   "source": [
    "The same sort of construct can also be used to have multiple variables in a list comprehension:"
   ]
  },
  {
   "cell_type": "code",
   "execution_count": 33,
   "metadata": {
    "scrolled": true
   },
   "outputs": [
    {
     "data": {
      "text/plain": [
       "[336, 252, 48, 128]"
      ]
     },
     "execution_count": 33,
     "metadata": {},
     "output_type": "execute_result"
    }
   ],
   "source": [
    "height = [4,7,8,4]\n",
    "width = [7,6,2,8]\n",
    "depth = [12,6,3,4]\n",
    "\n",
    "volume = [h * w * d for h,w,d in zip(height, width, depth)]\n",
    "volume"
   ]
  },
  {
   "cell_type": "markdown",
   "metadata": {},
   "source": [
    "__Exerise__: Create a list of sequences error rates and then turn it into a dictionary with the names as keys. The expected values are:\n",
    "\n",
    "{'read1': 0.16666666666666666,\n",
    " 'read2': 0.12962962962962962,\n",
    " 'read3': 0.0625,\n",
    " 'read4': 0.5416666666666666}"
   ]
  },
  {
   "cell_type": "code",
   "execution_count": 35,
   "metadata": {},
   "outputs": [],
   "source": [
    "seq_names = ['read1', 'read2', 'read3', 'read4']\n",
    "seqs = ['acgtacgtacgatcgatcgattggctatgc',\n",
    "        'cagctagctagctattcttcggataacacacatttacactatcggactacgatc',\n",
    "        'acattcttctcttttttttttgcgagctatcgatcgatatcgagtcga',\n",
    "        'gatcgatcgatcgtgacgtctagc']\n",
    "seq_error_count = [5, 7, 3, 13]\n"
   ]
  },
  {
   "cell_type": "markdown",
   "metadata": {},
   "source": [
    "Finally, you might intuitively expect that using round brackets would create a tuple comprehension, however when we try it we find it doesn't:"
   ]
  },
  {
   "cell_type": "code",
   "execution_count": 39,
   "metadata": {},
   "outputs": [
    {
     "data": {
      "text/plain": [
       "<generator object <genexpr> at 0x10897a138>"
      ]
     },
     "execution_count": 39,
     "metadata": {},
     "output_type": "execute_result"
    }
   ],
   "source": [
    "(math.factorial(x) for x in range(10000))"
   ]
  },
  {
   "cell_type": "markdown",
   "metadata": {},
   "source": [
    "What has actually been created is a generator, which is a special type of iterator that only yields the next value when it is required, making them much more efficient. They are another very useful feature that we don't have time to cover, you can find out more at https://docs.python.org/3/howto/functional.html#generators (indeed the whole page is good). For a simple example of how powerful they can be look carefully at the computation you just did and think how long it took - doing the same in a list comprehension is unlikely to be a good idea!\n",
    "\n",
    "It is possible to create a tuple using a comprehension but requires calling the _tuple_ constructor function on another true comprehension:"
   ]
  },
  {
   "cell_type": "code",
   "execution_count": 42,
   "metadata": {},
   "outputs": [
    {
     "data": {
      "text/plain": [
       "(0, 1, 4, 9, 16, 25, 36, 49, 64, 81)"
      ]
     },
     "execution_count": 42,
     "metadata": {},
     "output_type": "execute_result"
    },
    {
     "data": {
      "text/plain": [
       "(0, 1, 8, 27, 64, 125, 216, 343, 512, 729)"
      ]
     },
     "execution_count": 42,
     "metadata": {},
     "output_type": "execute_result"
    }
   ],
   "source": [
    "tuple([x**2 for x in range(10)])\n",
    "tuple(x**3 for x in range(10))"
   ]
  },
  {
   "cell_type": "markdown",
   "metadata": {},
   "source": [
    "## Classes"
   ]
  },
  {
   "cell_type": "markdown",
   "metadata": {},
   "source": [
    "Object oriented programming is a style of programming based on the manipulation of objects, each of which has bits of data and methods to act on them associated with them. It aims to encourage programs that relate conceptually to real life and are easy to read. Classes allow you define how your own objects, of which you can then create instances in your program to work on. The best way to learn is through examples, so we will build up some simple classes to represent biological sequences.\n",
    "\n",
    "We will start off with an RNA sequence. It might be useful for you to have the complete code of these classes available as we go, so copy this starter section into a fresh python script or jupyter notebook and add the various sections we cover to it. This will let you get a complete view of things.\n",
    "\n",
    "The basic syntax to define a class is very simple:"
   ]
  },
  {
   "cell_type": "code",
   "execution_count": 46,
   "metadata": {},
   "outputs": [],
   "source": [
    "class RNA:\n",
    "    \"\"\"An RNA sequence\"\"\"\n",
    "    pass"
   ]
  },
  {
   "cell_type": "markdown",
   "metadata": {},
   "source": [
    "We have now created a class called _RNA_, with a docstring giving a brief description of it (this is what appears when you call the help function on an object). However, the class doesn't really do anything yet, so lets add the sequence to it. We can do this my adding a method to the class, which has the same syntax as declaring a function. \\_\\_Methods\\_\\_ with two leading and trailing underscores are special with specific predefined roles (for more information on the use of underscores in names see [here](https://hackernoon.com/understanding-the-underscore-of-python-309d1a029edc)). The \\_\\_init\\_\\_ method is called when the class is created and defines the variables used to initialise the class:"
   ]
  },
  {
   "cell_type": "code",
   "execution_count": 49,
   "metadata": {},
   "outputs": [
    {
     "data": {
      "text/plain": [
       "<__main__.RNA at 0x1089b2940>"
      ]
     },
     "execution_count": 49,
     "metadata": {},
     "output_type": "execute_result"
    }
   ],
   "source": [
    "class RNA:\n",
    "    \"\"\"An RNA sequence\"\"\"\n",
    "    def __init__(self, seq):\n",
    "        # Make sequence lower case\n",
    "        seq = str(seq).lower()\n",
    "\n",
    "\n",
    "        # Set the sequence\n",
    "        self.seq = seq\n",
    "\n",
    "RNA('actgcthg')"
   ]
  },
  {
   "cell_type": "markdown",
   "metadata": {},
   "source": [
    "We can now create an RNA instance using the syntax ClassName(...), which uses the \\_\\_init\\_\\_ method, in our case assigning the given sequence to the class _seq_ variable.\n",
    "You will have noticed the _self_ variable that defined in the \\_\\_init\\_\\_ method is not given when we called RNA(_seq_). This is because the first variable in a method, named _self_ by convention, is implicitally assigned as the instance of the class, allowing you to modify class instance variables and call methods on the instance. In our \\_\\_init\\_\\_ method we used this to assign the sequence to the instance variable _seq_ : `self.seq = seq`. Classed can also have [class methods and static methods](https://julien.danjou.info/guide-python-static-class-abstract-methods/) that have the class itself (rather than an instance) or no implicit first argument respectively, which are defined using [decorators](https://hackernoon.com/decorators-in-python-8fd0dce93c08). Both are more advanced topics than we will cover here.\n",
    "\n",
    "Classes have two kinds of variables; class variables and instance variables. Both types can be accessed using `class.var` syntax. We have just encountered and instanace variable, _seq_, which is a bit of data associated with a specific instance of the class:"
   ]
  },
  {
   "cell_type": "code",
   "execution_count": 51,
   "metadata": {},
   "outputs": [
    {
     "data": {
      "text/plain": [
       "'aaa'"
      ]
     },
     "execution_count": 51,
     "metadata": {},
     "output_type": "execute_result"
    },
    {
     "data": {
      "text/plain": [
       "'ccc'"
      ]
     },
     "execution_count": 51,
     "metadata": {},
     "output_type": "execute_result"
    }
   ],
   "source": [
    "rna1 = RNA('aaa')\n",
    "rna2 = RNA('ccc')\n",
    "\n",
    "rna1.seq\n",
    "rna2.seq"
   ]
  },
  {
   "cell_type": "markdown",
   "metadata": {},
   "source": [
    "Class variables on the other hand are shared by all members of the class. Lets add an `alphabet` variable to store the allowed bases in the class and use it to check the input, along with an appropriate error:"
   ]
  },
  {
   "cell_type": "code",
   "execution_count": 63,
   "metadata": {},
   "outputs": [],
   "source": [
    "class NucleotideError(Exception):\n",
    "    \"\"\"Error for a sequence containing a character outside the allowed alphabet\"\"\"\n",
    "    pass\n",
    "\n",
    "class RNA:\n",
    "    \"\"\"An RNA sequence\"\"\"\n",
    "    alphabet = ('a', 'c', 'g', 'u')\n",
    "    \n",
    "    def __init__(self, seq):\n",
    "        # Make sequence lower case\n",
    "        seq = str(seq).lower()\n",
    "\n",
    "        for base in seq:\n",
    "            if not base in self.alphabet:\n",
    "                raise NucleotideError('{} is not in the alphabet {}'.format(base, self.alphabet))\n",
    "                \n",
    "        # Set the sequence\n",
    "        self.seq = seq"
   ]
  },
  {
   "cell_type": "markdown",
   "metadata": {},
   "source": [
    "Class variables are defined outside class methods, without using the `self.x` syntax and are shared across all class instances. Now if we try to create an RNA molecule with a bad sequence an error is thrown:"
   ]
  },
  {
   "cell_type": "code",
   "execution_count": 65,
   "metadata": {},
   "outputs": [
    {
     "ename": "NucleotideError",
     "evalue": "h is not in the alphabet ('a', 'c', 'g', 'u')",
     "output_type": "error",
     "traceback": [
      "\u001b[0;31m---------------------------------------------------------------------------\u001b[0m",
      "\u001b[0;31mNucleotideError\u001b[0m                           Traceback (most recent call last)",
      "\u001b[0;32m<ipython-input-65-94d3e64e3bb9>\u001b[0m in \u001b[0;36m<module>\u001b[0;34m()\u001b[0m\n\u001b[0;32m----> 1\u001b[0;31m \u001b[0mRNA\u001b[0m\u001b[0;34m(\u001b[0m\u001b[0;34m'acugacuHBHacugac'\u001b[0m\u001b[0;34m)\u001b[0m\u001b[0;34m\u001b[0m\u001b[0m\n\u001b[0m",
      "\u001b[0;32m<ipython-input-63-4675d1502fbc>\u001b[0m in \u001b[0;36m__init__\u001b[0;34m(self, seq)\u001b[0m\n\u001b[1;32m     13\u001b[0m         \u001b[0;32mfor\u001b[0m \u001b[0mbase\u001b[0m \u001b[0;32min\u001b[0m \u001b[0mseq\u001b[0m\u001b[0;34m:\u001b[0m\u001b[0;34m\u001b[0m\u001b[0m\n\u001b[1;32m     14\u001b[0m             \u001b[0;32mif\u001b[0m \u001b[0;32mnot\u001b[0m \u001b[0mbase\u001b[0m \u001b[0;32min\u001b[0m \u001b[0mself\u001b[0m\u001b[0;34m.\u001b[0m\u001b[0malphabet\u001b[0m\u001b[0;34m:\u001b[0m\u001b[0;34m\u001b[0m\u001b[0m\n\u001b[0;32m---> 15\u001b[0;31m                 \u001b[0;32mraise\u001b[0m \u001b[0mNucleotideError\u001b[0m\u001b[0;34m(\u001b[0m\u001b[0;34m'{} is not in the alphabet {}'\u001b[0m\u001b[0;34m.\u001b[0m\u001b[0mformat\u001b[0m\u001b[0;34m(\u001b[0m\u001b[0mbase\u001b[0m\u001b[0;34m,\u001b[0m \u001b[0mself\u001b[0m\u001b[0;34m.\u001b[0m\u001b[0malphabet\u001b[0m\u001b[0;34m)\u001b[0m\u001b[0;34m)\u001b[0m\u001b[0;34m\u001b[0m\u001b[0m\n\u001b[0m\u001b[1;32m     16\u001b[0m \u001b[0;34m\u001b[0m\u001b[0m\n\u001b[1;32m     17\u001b[0m         \u001b[0;31m# Set the sequence\u001b[0m\u001b[0;34m\u001b[0m\u001b[0;34m\u001b[0m\u001b[0m\n",
      "\u001b[0;31mNucleotideError\u001b[0m: h is not in the alphabet ('a', 'c', 'g', 'u')"
     ]
    }
   ],
   "source": [
    "RNA('acugacuHBHacugac')"
   ]
  },
  {
   "cell_type": "markdown",
   "metadata": {},
   "source": [
    "Other useful special methods include:\n",
    "* \\_\\_str\\_\\_ - called when you convert a function to a string (including when printing it)\n",
    "* Similar functions \\_\\_int\\_\\_, \\_\\_float\\_\\_ etc.\n",
    "* \\_\\_repr\\_\\_ - The 'cannonical' string representation, which should return the object if evaluated\n",
    "* \\_\\_len\\_\\_ - used by the builtin `len()` function to return an objects length\n",
    "\n",
    "Alongside [many more](http://www.diveintopython3.net/special-method-names.html). We will implement the three listed ones:"
   ]
  },
  {
   "cell_type": "code",
   "execution_count": 67,
   "metadata": {},
   "outputs": [],
   "source": [
    "class RNA:\n",
    "    \"\"\"An RNA sequence\"\"\"\n",
    "    alphabet = ('a', 'c', 'g', 'u')\n",
    "\n",
    "    def __init__(self, seq):\n",
    "        # Make sequence lower case\n",
    "        seq = str(seq).lower()\n",
    "\n",
    "\n",
    "        # Check all bases are part of the sequence alphabet\n",
    "        for base in seq:\n",
    "            if not base in self.alphabet:\n",
    "                raise NucleotideError('{} is not in the alphabet {}'.format(base, self.alphabet))\n",
    "\n",
    "        # Set the sequence\n",
    "        self.seq = seq\n",
    "\n",
    "    def __str__(self):\n",
    "        return \"5'-{}-3'\".format(self.seq)\n",
    "\n",
    "    def __repr__(self):\n",
    "        return '{}({})'.format(type(self).__name__, self.seq)\n",
    "\n",
    "    def __len__(self):\n",
    "        return len(self.seq)"
   ]
  },
  {
   "cell_type": "code",
   "execution_count": 70,
   "metadata": {},
   "outputs": [
    {
     "data": {
      "text/plain": [
       "RNA(aucgaucguac)"
      ]
     },
     "execution_count": 70,
     "metadata": {},
     "output_type": "execute_result"
    },
    {
     "name": "stdout",
     "output_type": "stream",
     "text": [
      "5'-aucgaucguac-3'\n",
      "11\n"
     ]
    }
   ],
   "source": [
    "rna = RNA('aucgaucguac')\n",
    "rna\n",
    "print(rna, len(rna), sep='\\n')"
   ]
  },
  {
   "cell_type": "markdown",
   "metadata": {},
   "source": [
    "We now have a simple container for RNA sequences, but it doesn't really do anything yet beyond slightly fancy printing. For that we can add a normal method. In this case we'll add a method to calculate the molecular weight of the molecular, also adding another class variable. This completes the RNA class:"
   ]
  },
  {
   "cell_type": "markdown",
   "metadata": {},
   "source": [
    "#### RNA Class"
   ]
  },
  {
   "cell_type": "code",
   "execution_count": null,
   "metadata": {},
   "outputs": [],
   "source": [
    "class RNA:\n",
    "    \"\"\"An RNA sequence\"\"\"\n",
    "    alphabet = ('a', 'c', 'g', 'u')\n",
    "\n",
    "    # Molecular weights from thermofisher\n",
    "    base_weights = {'a':329.2, 'c':305.2, 'g':345.2, 'u':306.2}\n",
    "\n",
    "    def __init__(self, seq):\n",
    "        # Make sequence lower case\n",
    "        seq = str(seq).lower()\n",
    "\n",
    "\n",
    "        # Check all bases are part of the sequence alphabet\n",
    "        for base in seq:\n",
    "            if not base in self.alphabet:\n",
    "                raise NucleotideError('{} is not in the alphabet {}'.format(base, self.alphabet))\n",
    "\n",
    "        # Set the sequence\n",
    "        self.seq = seq\n",
    "\n",
    "    def __str__(self):\n",
    "        return \"5'-{}-3'\".format(self.seq)\n",
    "\n",
    "    def __repr__(self):\n",
    "        return '{}({})'.format(type(self).__name__, self.seq)\n",
    "\n",
    "    def __len__(self):\n",
    "        return len(self.seq)\n",
    "\n",
    "    def molecular_weight(self):\n",
    "        \"\"\"Calculate the (approximate) molecular weight of the molecule, excluding potential end phosphate\"\"\"\n",
    "        weight = 0\n",
    "        for base in self.seq:\n",
    "            weight += self.base_weights[base]\n",
    "\n",
    "        return weight"
   ]
  },
  {
   "cell_type": "markdown",
   "metadata": {},
   "source": [
    "__Potential Exercises__:\n",
    "* Add another method (gc content? simple alignment?)\n",
    "* Add an \\_\\_iter\\_\\_ method to allow looping through the sequence\n",
    "\n",
    "Since these may take some time and research don't spend too long on them, you can always come back later if you find it interesting."
   ]
  },
  {
   "cell_type": "markdown",
   "metadata": {},
   "source": [
    "### Inheritance\n",
    "Inheritance is a very useful feature of classes that allows you to easily define new variations on an existing class. We've already seen a basic example in the error that we defined, which inherited from the `Exception` class. Indeed that gives the the basic syntax to use:\n",
    "\n",
    "```\n",
    "class child_class(parent_class):\n",
    "    pass\n",
    "```\n",
    "A class inherits all the methods and class variables of it's parent class unless you expliciatally overwrite them.\n",
    "\n",
    "Let's use our `RNA` class to define a ssDNA class, the only real change we'll need to make is to the alphabet and molecular weights.\n",
    "\n",
    "__Bonus Exercise__: Change the `RNA` class such that we don't even need to change the alphabet (hint: we list the possbile bases somewhere else)"
   ]
  },
  {
   "cell_type": "markdown",
   "metadata": {},
   "source": [
    "#### ssDNA Class"
   ]
  },
  {
   "cell_type": "code",
   "execution_count": 72,
   "metadata": {},
   "outputs": [],
   "source": [
    "class ssDNA(RNA):\n",
    "    \"\"\"A ssDNA sequence\"\"\"\n",
    "    alphabet = ('a', 'c', 'g', 't')\n",
    "\n",
    "    # Molecular weights from thermofisher\n",
    "    base_weights = {'a':313.2, 'c':289.2, 'g':329.2, 't':304.2}\n",
    "\n",
    "    def __init__(self, seq):\n",
    "        super().__init__(seq)"
   ]
  },
  {
   "cell_type": "markdown",
   "metadata": {},
   "source": [
    "This also demonstrates the `super()` function, which fetches a classes parent class, allowing you to access it's methods. We use it to call the `RNA.__init__()` method, but note that it still uses the DNA alphabet not the RNA one becuase we used `self.alphabet` in the RNA method, which points to the DNA alphabet in our new class.\n",
    "\n",
    "ssDNA is very similar to RNA, and was consequently fairly trivial to implement. Lets see what changes we need to make dsDNA. Initially this seems simple, the alphabet and weights are the same as ssDNA so we can trivially inherit from that:"
   ]
  },
  {
   "cell_type": "code",
   "execution_count": 74,
   "metadata": {},
   "outputs": [
    {
     "name": "stdout",
     "output_type": "stream",
     "text": [
      "5'-actcagcgat-3'\n"
     ]
    }
   ],
   "source": [
    "class dsDNA(ssDNA):\n",
    "    \"\"\"A dsDNA sequence\"\"\"\n",
    "    def __init__(self, seq):\n",
    "        super().__init__(seq)\n",
    "\n",
    "print(dsDNA('actcagcgat'))"
   ]
  },
  {
   "cell_type": "markdown",
   "metadata": {},
   "source": [
    "That doesn't really seem a good representation of dsDNA though, it might be nice to see the reverse strand too? This can be done by overwriting the `__str__` function. Similarly the molecular weight will only account for one strand, so that will need to be changed too.\n",
    "__Exercise__: Modify the template below to do this"
   ]
  },
  {
   "cell_type": "code",
   "execution_count": null,
   "metadata": {},
   "outputs": [],
   "source": [
    "class dsDNA(ssDNA):\n",
    "    \"\"\"A dsDNA sequence\"\"\"\n",
    "    def __init__(self, seq):\n",
    "        super().__init__(seq)"
   ]
  },
  {
   "cell_type": "markdown",
   "metadata": {},
   "source": [
    "Here's one possible solution, using another class variable to store watson-crick pairing (which is constant between molecules) and calculating the complement as we initialise instances, because it is useful in both functions:"
   ]
  },
  {
   "cell_type": "markdown",
   "metadata": {},
   "source": [
    "#### dsDNA Class"
   ]
  },
  {
   "cell_type": "code",
   "execution_count": 75,
   "metadata": {},
   "outputs": [
    {
     "name": "stdout",
     "output_type": "stream",
     "text": [
      "5'-actcagcgat-3'\n",
      "   ||||||||||   \n",
      "3'-tgagtcgcta-5'\n"
     ]
    }
   ],
   "source": [
    "class dsDNA(ssDNA):\n",
    "    \"\"\"A dsDNA sequence\"\"\"\n",
    "    base_complements = {'a':'t', 'c':'g', 'g':'c', 't':'a'}\n",
    "    def __init__(self, seq):\n",
    "        super().__init__(seq)\n",
    "        self.complement = ''.join([self.base_complements[base] for base in self.seq])\n",
    "\n",
    "    def __str__(self):\n",
    "        foreward = super().__str__()\n",
    "        reverse = \"3'-{}-5'\".format(self.complement)\n",
    "        return '{}\\n   {}   \\n{}'.format(foreward, '|'*len(self), reverse)\n",
    "\n",
    "    def molecular_weight(self):\n",
    "        foreward_strand = super().molecular_weight()\n",
    "        reverse_strand = 0\n",
    "        for base in self.complement:\n",
    "            reverse_strand += self.base_weights[base]\n",
    "\n",
    "        return foreward_strand + reverse_strand\n",
    "    \n",
    "print(dsDNA('actcagcgat'))"
   ]
  },
  {
   "cell_type": "markdown",
   "metadata": {},
   "source": [
    "This is possibly an overly elaborate way of printing dsDNA, depending on what your program is for, but it serves to show the power of overwriting parent methods. Both `__str__` and `molecular_weight` again make use of `super()` to call the `ssDNA` equivalent method as a starting point to build on; often a useful way to avoid writing the same function twice"
   ]
  },
  {
   "cell_type": "markdown",
   "metadata": {},
   "source": [
    "\n",
    "\n",
    "## Error Handling"
   ]
  },
  {
   "cell_type": "markdown",
   "metadata": {},
   "source": [
    "When you start to write longer scripts and programs it is important to "
   ]
  },
  {
   "cell_type": "markdown",
   "metadata": {},
   "source": [
    "## Database Access"
   ]
  },
  {
   "cell_type": "markdown",
   "metadata": {},
   "source": []
  },
  {
   "cell_type": "markdown",
   "metadata": {},
   "source": [
    "# Biological Libraries"
   ]
  },
  {
   "cell_type": "markdown",
   "metadata": {},
   "source": []
  }
 ],
 "metadata": {
  "kernelspec": {
   "display_name": "Python 3",
   "language": "python",
   "name": "python3"
  },
  "language_info": {
   "codemirror_mode": {
    "name": "ipython",
    "version": 3
   },
   "file_extension": ".py",
   "mimetype": "text/x-python",
   "name": "python",
   "nbconvert_exporter": "python",
   "pygments_lexer": "ipython3",
   "version": "3.7.0"
  }
 },
 "nbformat": 4,
 "nbformat_minor": 2
}
