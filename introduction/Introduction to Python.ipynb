{
 "cells": [
  {
   "cell_type": "markdown",
   "metadata": {},
   "source": [
    "# Introduction to Python\n",
    "These exercises accompany the introduction to python session. They can be done using the interactive prompt or in a script file. It is often useful to play around with code from each topic \n",
    "\n",
    "## Basic Types and Operations\n",
    "Python supports a number of basic types of object - numbers (integer and floating point), strings, lists etc. The following Exercises will introduce you to basic manipulation of these.\n",
    "\n",
    "### Numerics and Calculations\n",
    "Evaluate the following:\n",
    "\n",
    "1. $1 + 2$  \n",
    "1. $4 \\times (1 - \\dfrac{1}{3} + \\dfrac{1}{5} - \\dfrac{1}{7} + \\dfrac{1}{9})$\n",
    "1. The area of a circle of radius 4.32 (hint: $\\pi$ is available in the `math` module as `math.pi`)\n",
    "1. $e^{2}$\n",
    "1. $12~\\text{mod}~4$\n",
    "\n",
    "### Boolean objects and Logical Operations\n",
    "What would the following statements produce? Were you Right?"
   ]
  },
  {
   "cell_type": "code",
   "execution_count": null,
   "metadata": {},
   "outputs": [],
   "source": [
    "True and False"
   ]
  },
  {
   "cell_type": "code",
   "execution_count": null,
   "metadata": {},
   "outputs": [],
   "source": [
    "False or True"
   ]
  },
  {
   "cell_type": "code",
   "execution_count": null,
   "metadata": {},
   "outputs": [],
   "source": [
    "True and False or True"
   ]
  },
  {
   "cell_type": "code",
   "execution_count": null,
   "metadata": {},
   "outputs": [],
   "source": [
    "(True and False) or True "
   ]
  },
  {
   "cell_type": "code",
   "execution_count": null,
   "metadata": {},
   "outputs": [],
   "source": [
    "True or embl"
   ]
  },
  {
   "cell_type": "code",
   "execution_count": null,
   "metadata": {},
   "outputs": [],
   "source": [
    "True and embl"
   ]
  },
  {
   "cell_type": "code",
   "execution_count": null,
   "metadata": {},
   "outputs": [],
   "source": [
    "1 or 0"
   ]
  },
  {
   "cell_type": "code",
   "execution_count": null,
   "metadata": {},
   "outputs": [],
   "source": [
    "1 and 2 "
   ]
  },
  {
   "cell_type": "code",
   "execution_count": null,
   "metadata": {},
   "outputs": [],
   "source": [
    "[] or ''"
   ]
  },
  {
   "cell_type": "code",
   "execution_count": null,
   "metadata": {},
   "outputs": [],
   "source": [
    "[] or 'embl'"
   ]
  },
  {
   "cell_type": "markdown",
   "metadata": {},
   "source": [
    "As well as `and` and `or` there are various comparasion operators, which generally behave as you would expect them to based on maths. One thing to bare in mind is that the logical equality operator is `==` since a single `=` is already used to assign variables. In addition there are bitwise operators that work directly on the binary representation of object, but these are a bit advanced for the introduction session (see more [here](https://wiki.python.org/moin/BitwiseOperators) if you're curious). What do you expect the following statements will evaluate to:"
   ]
  },
  {
   "cell_type": "code",
   "execution_count": null,
   "metadata": {},
   "outputs": [],
   "source": [
    "1 > 0"
   ]
  },
  {
   "cell_type": "code",
   "execution_count": null,
   "metadata": {},
   "outputs": [],
   "source": [
    "2 == 2"
   ]
  },
  {
   "cell_type": "code",
   "execution_count": null,
   "metadata": {},
   "outputs": [],
   "source": [
    "3 <= 2"
   ]
  },
  {
   "cell_type": "code",
   "execution_count": null,
   "metadata": {},
   "outputs": [],
   "source": [
    "type(1) is int"
   ]
  },
  {
   "cell_type": "markdown",
   "metadata": {},
   "source": [
    "### Strings"
   ]
  },
  {
   "cell_type": "markdown",
   "metadata": {},
   "source": [
    "Start by storing a reasonably long string of your choice in a variable:"
   ]
  },
  {
   "cell_type": "code",
   "execution_count": null,
   "metadata": {},
   "outputs": [],
   "source": [
    "my_string = 'The Quick Brown Fox Jumps Over the Lazy Dog.'"
   ]
  },
  {
   "cell_type": "markdown",
   "metadata": {},
   "source": [
    "Tasks:\n",
    "1. Determine the length of the string\n",
    "1. Extract characters 5 to 10 (inclusive)\n",
    "1. Make the string all upper or lower case\n",
    "1. Concatanate another string to it\n",
    "1. Split the string up into words and store it in a list"
   ]
  },
  {
   "cell_type": "markdown",
   "metadata": {},
   "source": [
    "### Lists\n",
    "Start by using your list of words.\n",
    "1. Extract the 3<sup>rd</sup> to 5<sup>th</sup> words\n",
    "1. Remove the last word and store it in a variable\n",
    "1. Add another word to the end of the list\n",
    "1. Add the stored previous last word to the start of the list\n",
    "\n",
    "Now create a list of numbers\n",
    "1. What is their sum?\n",
    "1. What is the mean?\n",
    "1. The mode?\n",
    "1. The median?"
   ]
  },
  {
   "cell_type": "markdown",
   "metadata": {},
   "source": [
    "### Dictionaries\n",
    "Copy the dictionary below:"
   ]
  },
  {
   "cell_type": "code",
   "execution_count": null,
   "metadata": {},
   "outputs": [],
   "source": [
    "ages = {'Alice':21, 'Bob':19, 'Charlie':25, 'Dave':23, 'Emma':29}"
   ]
  },
  {
   "cell_type": "markdown",
   "metadata": {},
   "source": [
    "1. What is the average age of Alice, Charlie and Emma?\n",
    "1. What is the sum of all ages?\n",
    "1. How much older is Bob than Dave?"
   ]
  },
  {
   "cell_type": "markdown",
   "metadata": {},
   "source": [
    "## Control Flow\n",
    "While simple manipulation of variables is useful it can't solve very many problems easily or efficiently on its own. We will now cover tools that allow you to produce useful programs."
   ]
  },
  {
   "cell_type": "markdown",
   "metadata": {},
   "source": [
    "### While loops\n",
    "While loops allow you to repeat a block of code until a condition ceases to be true, checking at the begining of each cycle. For example the following loop prints random numbers until it gets one greater than 0.75:"
   ]
  },
  {
   "cell_type": "code",
   "execution_count": 7,
   "metadata": {},
   "outputs": [
    {
     "name": "stdout",
     "output_type": "stream",
     "text": [
      "0.1551412937816793\n",
      "0.042449653133692755\n",
      "0.6242560874745714\n",
      "0.19823924558099004\n",
      "0.9447063413358199\n"
     ]
    }
   ],
   "source": [
    "import random\n",
    "random.seed()\n",
    "\n",
    "x = 0\n",
    "while x < 0.75:\n",
    "    x = random.random()\n",
    "    print(x)"
   ]
  },
  {
   "cell_type": "markdown",
   "metadata": {},
   "source": [
    "1. Write a loop to draw random values from a list until it gets a specific value\n",
    "1. Write a while loop that creates a new list containing the squares of values in `[1,3,5,3,7,8,10]`"
   ]
  },
  {
   "cell_type": "markdown",
   "metadata": {},
   "source": [
    "### For loops\n",
    "The second exercise was possible with a while loop, but would have been much more convenient using a for loop. These iterate through each object in a list, or other object containing multiple values.\n",
    "\n",
    "For example the second exercise above could be written:"
   ]
  },
  {
   "cell_type": "code",
   "execution_count": 6,
   "metadata": {},
   "outputs": [
    {
     "data": {
      "text/plain": [
       "[1, 3, 5, 3, 7, 8, 10]"
      ]
     },
     "execution_count": 6,
     "metadata": {},
     "output_type": "execute_result"
    }
   ],
   "source": [
    "x = [1,3,5,3,7,8,10]\n",
    "x_squared = []\n",
    "\n",
    "for i in x:\n",
    "    x_squared.append(i)\n",
    "x_squared"
   ]
  },
  {
   "cell_type": "markdown",
   "metadata": {},
   "source": [
    "A commonly used looping object is the `range()` function, which creates a series of numbers to loop over:"
   ]
  },
  {
   "cell_type": "code",
   "execution_count": 4,
   "metadata": {},
   "outputs": [
    {
     "name": "stdout",
     "output_type": "stream",
     "text": [
      "3\n",
      "5\n",
      "7\n",
      "9\n"
     ]
    }
   ],
   "source": [
    "for i in range(3, 11, 2):\n",
    "    print(i)"
   ]
  },
  {
   "cell_type": "markdown",
   "metadata": {},
   "source": [
    "Notice it doesn't include the finishing value. It is often used with a single argument, which creates a series up to but not including that value:\n",
    "\n",
    "`range(10) -> 0, 1, 2, ..., 9`\n",
    "\n",
    "__Exercises__:\n",
    "1. Generate a list with the cubes of odd numbers from 5 to 25\n",
    "1. Print the length of each word in the list generated in the strings section\n",
    "1. For each key, value pair in your age dictionary, print the persons name and birth year (Hint: dict.items() gives a list of tuples containing key, value pairs that can be assigned like so `k, v in dict.items()`)"
   ]
  },
  {
   "cell_type": "markdown",
   "metadata": {},
   "source": [
    "### If statements\n",
    "It is also common to need to do different things with different inputs or  make other branching decisions in your programs. Conditional statements do this for you, using the same condition expressions we previously used in while loops. For example we can print even numbers from a list:"
   ]
  },
  {
   "cell_type": "code",
   "execution_count": 3,
   "metadata": {},
   "outputs": [
    {
     "name": "stdout",
     "output_type": "stream",
     "text": [
      "2\n",
      "6\n",
      "48\n",
      "4\n",
      "8\n",
      "6\n",
      "232\n",
      "74\n"
     ]
    }
   ],
   "source": [
    "x = [1,2,3,5,6,5,45,7,3,48,5,4,8,6,23,232,74]\n",
    "for i in x:\n",
    "    if i % 2 == 0:\n",
    "        print(i)"
   ]
  },
  {
   "cell_type": "markdown",
   "metadata": {},
   "source": [
    "You are also able to include `elif` blocks, to sequentially test different conditions and a final `else` block, which is run if none of the conditions are true:"
   ]
  },
  {
   "cell_type": "code",
   "execution_count": 9,
   "metadata": {},
   "outputs": [
    {
     "name": "stdout",
     "output_type": "stream",
     "text": [
      "Number\n",
      "String\n",
      "List\n",
      "String\n",
      "Number\n",
      "String\n",
      "Something else\n"
     ]
    }
   ],
   "source": [
    "for i in [1,'str', [1,2,3], 'str', 12.3, 'str', {'dict':1}]:\n",
    "    if type(i) is str:\n",
    "        print('String')\n",
    "    elif type(i) is list:\n",
    "        print('List')\n",
    "    elif type(i) in (int, float):\n",
    "        print('Number')\n",
    "    else:\n",
    "        print('Something else')"
   ]
  },
  {
   "cell_type": "markdown",
   "metadata": {},
   "source": [
    "__Exercises__:\n",
    "1. print words containing the letter 'e' from your sentence list\n",
    "1. Print all integers $<100$ but replace multiples of 3 with 'fizz', multiples of 5 with 'buzz' and multiples of both with 'fizzbuzz'."
   ]
  },
  {
   "cell_type": "markdown",
   "metadata": {},
   "source": [
    "## Functions\n",
    "Often in a program you will want to do the same opperation many times and writing the same code over again wastes time. Functions allow you to easily reuse code while also allowing you to make it more general and apply it to many similar situations. For example suppose we wanted to calculate the kinetic energy of many objects:"
   ]
  },
  {
   "cell_type": "code",
   "execution_count": 14,
   "metadata": {},
   "outputs": [
    {
     "name": "stdout",
     "output_type": "stream",
     "text": [
      "An object traveling at 2m/s has a kinetic energy of 2.0J/kg\n",
      "An object traveling at 4m/s has a kinetic energy of 8.0J/kg\n",
      "An object traveling at 3m/s has a kinetic energy of 4.5J/kg\n",
      "An object traveling at 6m/s has a kinetic energy of 18.0J/kg\n",
      "An object traveling at 5m/s has a kinetic energy of 12.5J/kg\n",
      "An object traveling at 7m/s has a kinetic energy of 24.5J/kg\n",
      "A 5kg object traveling at 3m/s has a kinetic energy of 22.5J\n"
     ]
    }
   ],
   "source": [
    "def kinetic_energy(velocity, mass=1):\n",
    "    ke = 1/2 * mass * velocity**2\n",
    "    return ke\n",
    "\n",
    "# print the ke for a series of objects in J/kg\n",
    "velocities = [2,4,3,6,5,7]\n",
    "for v in velocities:\n",
    "    print('An object traveling at {}m/s has a kinetic energy of {}J/kg'.format(v, kinetic_energy(v)))\n",
    "    \n",
    "print('A 5kg object traveling at 3m/s has a kinetic energy of {}J'.format(kinetic_energy(3, 5)))"
   ]
  },
  {
   "cell_type": "markdown",
   "metadata": {},
   "source": [
    "The critical parts of the function are the arguments, defined in brackets after the function name (`name(arg1, arg2)`) and the return statement, which when run will exit the function and pass the value to the code that called the function. The function also demonstrates the ability to set defaults for arguments (`name(arg=default)`).\n",
    "\n",
    "__Exercises__:\n",
    "Write functions that\n",
    "1. Calculate $e = mc^2$\n",
    "1. Returns Hardy-Weinberg equilibria as a tuple\n",
    "1. Sorts the words in a sentence, with an option for ascending or descending sort\n",
    "1. __Advanced__: Implements a [bubble sort](https://en.wikipedia.org/wiki/Bubble_sort)\n",
    "\n",
    "__Advanced__: How does the following function work? (Don't call it with a large input!)"
   ]
  },
  {
   "cell_type": "code",
   "execution_count": 15,
   "metadata": {},
   "outputs": [],
   "source": [
    "def fac(x):\n",
    "    x = int(x)\n",
    "    if x > 0:\n",
    "        return x * fac(x-1)\n",
    "    else:\n",
    "        return 1"
   ]
  },
  {
   "cell_type": "markdown",
   "metadata": {},
   "source": [
    "## Input/Output\n",
    "In many cases you want your programs to be able to interact with files, for example to read in data or write your results. This is fairly straightforward in base Python and the [fileinput](https://docs.python.org/3/library/fileinput.html) standard module is available if you need more power. In base python the `open` command is used to open a file object in various modes (e.g. `open(file, 'rw)` to open in read and write mode). You can then iterate through the lines in the file using a for loop or read all lines at once using the `readlines` method. Generally the former method is more efficient, unless you need information from multiple lines at once. For example to read in a short Fasta file:"
   ]
  },
  {
   "cell_type": "code",
   "execution_count": 26,
   "metadata": {},
   "outputs": [
    {
     "name": "stdout",
     "output_type": "stream",
     "text": [
      "{'Sequence1': 'ACTGACTAGCTACGAGCGCTTTCGATCAGGCATCGGCGTATCAGCTACG', 'Sequence2': 'CCACTGACTTAGCACTATCGNNNNCACGAGCTAGCGACTAGGCGACTGCTGCTAGCGATCAGCGAGCGGACTGAGCGACTATCGGACT', 'Sequence3': 'CTCTAGCGACGGGGCTTAGCGACGGACGGGCGGCATCATATATATATA'}\n"
     ]
    }
   ],
   "source": [
    "fasta_file = open('example.fa', 'r+')\n",
    "seqs = {}\n",
    "\n",
    "for line in fasta_file:\n",
    "    # Check if seqs is empty and you've encountered a header: initialise a new seq without writing\n",
    "    if not seqs and line[0] == '>':\n",
    "        name = line.strip('>\\t\\n ')\n",
    "        seqs[name] = []\n",
    "        \n",
    "    # Check if line is subsequent header: finish writing the old seq and initialise the old one\n",
    "    elif line[0] == '>':\n",
    "        seqs[name] = ''.join(seqs[name])\n",
    "        \n",
    "        name = line.strip('>\\t\\n ')\n",
    "        seqs[name] = []\n",
    "    \n",
    "    # Else append the sequence to the lise\n",
    "    else:\n",
    "        seqs[name].append(line.strip())\n",
    "\n",
    "# write the final sequence\n",
    "seqs[name] = ''.join(seqs[name])\n",
    "        \n",
    "print(seqs)"
   ]
  },
  {
   "cell_type": "markdown",
   "metadata": {},
   "source": [
    "It is usually safer to encase this sort of code in a `with` block, which makes sure the file is opened and closed correctly after you finish with it. The `with` block runs the entrance and exit code associated with the object you pass to it as it starts and finishes, in our case opening and closing the file. For example:"
   ]
  },
  {
   "cell_type": "code",
   "execution_count": 29,
   "metadata": {},
   "outputs": [
    {
     "name": "stdout",
     "output_type": "stream",
     "text": [
      "The line is 11 characters long\n",
      "The line is 49 characters long\n",
      "The line is 0 characters long\n",
      "The line is 11 characters long\n",
      "The line is 48 characters long\n",
      "The line is 40 characters long\n",
      "The line is 0 characters long\n",
      "The line is 11 characters long\n",
      "The line is 48 characters long\n"
     ]
    }
   ],
   "source": [
    "with open('example.fa', 'r+') as fasta_file:\n",
    "    for line in fasta_file:\n",
    "        print('The line is {} characters long'.format(len(line.strip())))"
   ]
  },
  {
   "cell_type": "markdown",
   "metadata": {},
   "source": [
    "You can also print to file objects or use the `write` method, which writes a string directly to the file without any formatting (e.g. the `\\n` appended by print). This requires the file to be in `w` (write) or `a` (append) mode, the former clearing the file and the latter letting you write to the end. Examine the file generated to see the effects of the statements."
   ]
  },
  {
   "cell_type": "code",
   "execution_count": 31,
   "metadata": {},
   "outputs": [],
   "source": [
    "with open('writing_test.txt', 'w') as f:\n",
    "    f.write('line1')\n",
    "    f.write('line2\\n')\n",
    "    print('line3', file=f)\n",
    "    print('line4', file=f)"
   ]
  },
  {
   "cell_type": "markdown",
   "metadata": {},
   "source": [
    "__Exercise__: Read the iris.tsv file into a data structure of your choice, calculate the mean, median, mode, variance and range of each column and write this summary to a new file."
   ]
  },
  {
   "cell_type": "markdown",
   "metadata": {},
   "source": [
    "In general most files you want to read will have a package that is able to easily and reliably read and write them, for example `biopython` provides functions to deal with sequence files and `pandas`, which we will cover next session, allows you to read and write data tables. Usually it's best to use these methods where you can, since they are efficient and have been rigourously tested, but it's still good to know how to manually manipulate files when necessary."
   ]
  }
 ],
 "metadata": {
  "kernelspec": {
   "display_name": "Python 3",
   "language": "python",
   "name": "python3"
  },
  "language_info": {
   "codemirror_mode": {
    "name": "ipython",
    "version": 3
   },
   "file_extension": ".py",
   "mimetype": "text/x-python",
   "name": "python",
   "nbconvert_exporter": "python",
   "pygments_lexer": "ipython3",
   "version": "3.7.0"
  }
 },
 "nbformat": 4,
 "nbformat_minor": 2
}
